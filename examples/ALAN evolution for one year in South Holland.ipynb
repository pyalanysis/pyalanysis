{
 "cells": [
  {
   "cell_type": "code",
   "execution_count": 1,
   "id": "90bc94d7",
   "metadata": {},
   "outputs": [
    {
     "name": "stdout",
     "output_type": "stream",
     "text": [
      "/usr/local/Caskroom/miniconda/base/share/proj\n"
     ]
    }
   ],
   "source": [
    "import rioxarray\n",
    "import xarray as xr\n",
    "import pandas as pd\n",
    "import numpy as np\n",
    "import matplotlib.pyplot as plt\n",
    "import geopandas as gpd\n",
    "import pydeck as pdk\n",
    "import rasterio\n",
    "import numpy as np\n",
    "import pyproj\n",
    "import shapely\n",
    "import gc\n",
    "\n",
    "print(pyproj.datadir.get_data_dir())\n",
    "\n",
    "%matplotlib inline"
   ]
  },
  {
   "cell_type": "markdown",
   "id": "a492905a",
   "metadata": {},
   "source": [
    "To determine what part to get, we use the figure from [mines](https://eogdata.mines.edu/products/vnl/#monthly),\n",
    "\n",
    "![coverage](https://eogdata.mines.edu/products/assets/img/tile_map.png)\n",
    "\n",
    "As can be seen in the file [download directory](https://eogdata.mines.edu/nighttime_light/monthly/v10/2021/202109/vcmcfg/) the latitude and longtitude is switched around in some cases."
   ]
  },
  {
   "cell_type": "code",
   "execution_count": 2,
   "id": "e4744e62",
   "metadata": {},
   "outputs": [],
   "source": [
    "from pyalanysis.data import ViirsDnbMonthlyDataLoader, ViirsDnbMonthlyType\n",
    "import os\n",
    "\n",
    "vdl = ViirsDnbMonthlyDataLoader()\n",
    "\n"
   ]
  },
  {
   "cell_type": "code",
   "execution_count": 3,
   "id": "6095161c",
   "metadata": {},
   "outputs": [
    {
     "data": {
      "text/plain": [
       "<bound method NDFrame.head of       postcode  aantal_inwoners  aantal_mannen  aantal_vrouwen  \\\n",
       "0         1119               10         -99997          -99997   \n",
       "1         1454              420            215             205   \n",
       "2         1505             6470           3195            3275   \n",
       "3         1623             2560           1215            1345   \n",
       "4         1965             6095           3035            3060   \n",
       "...        ...              ...            ...             ...   \n",
       "4061      9995              685            355             330   \n",
       "4062      9996               65             40              25   \n",
       "4063      9997              615            325             290   \n",
       "4064      9998              180             95              85   \n",
       "4065      9999              100             50              50   \n",
       "\n",
       "      aantal_inwoners_0_tot_15_jaar  aantal_inwoners_15_tot_25_jaar  \\\n",
       "0                            -99997                          -99997   \n",
       "1                                70                              40   \n",
       "2                              1340                             675   \n",
       "3                               375                             285   \n",
       "4                               850                             860   \n",
       "...                             ...                             ...   \n",
       "4061                            130                              90   \n",
       "4062                             10                          -99997   \n",
       "4063                            100                              80   \n",
       "4064                             35                              25   \n",
       "4065                             10                              15   \n",
       "\n",
       "      aantal_inwoners_25_tot_45_jaar  aantal_inwoners_45_tot_65_jaar  \\\n",
       "0                                  5                          -99997   \n",
       "1                                 95                             135   \n",
       "2                               2110                            1595   \n",
       "3                                515                             815   \n",
       "4                               1045                            2220   \n",
       "...                              ...                             ...   \n",
       "4061                             145                             220   \n",
       "4062                              15                              15   \n",
       "4063                             125                             195   \n",
       "4064                              35                              60   \n",
       "4065                              10                              40   \n",
       "\n",
       "      aantal_inwoners_65_jaar_en_ouder  aantal_geboorten  ...  \\\n",
       "0                               -99997            -99997  ...   \n",
       "1                                   85                10  ...   \n",
       "2                                  755                95  ...   \n",
       "3                                  565                20  ...   \n",
       "4                                 1120                40  ...   \n",
       "...                                ...               ...  ...   \n",
       "4061                               100            -99997  ...   \n",
       "4062                                20            -99997  ...   \n",
       "4063                               115            -99997  ...   \n",
       "4064                                25            -99997  ...   \n",
       "4065                                25            -99997  ...   \n",
       "\n",
       "      ziekenhuis_excl_buitenpoli_aantal_binnen_20_km  \\\n",
       "0                                               10.0   \n",
       "1                                               10.6   \n",
       "2                                               11.0   \n",
       "3                                                1.0   \n",
       "4                                                5.0   \n",
       "...                                              ...   \n",
       "4061                                             0.1   \n",
       "4062                                             0.9   \n",
       "4063                                             0.0   \n",
       "4064                                             0.1   \n",
       "4065                                             0.9   \n",
       "\n",
       "      ziekenhuis_incl_buitenpolikliniek_gem_afst_in_km  \\\n",
       "0                                                  6.7   \n",
       "1                                                  5.3   \n",
       "2                                                  2.9   \n",
       "3                                                  1.9   \n",
       "4                                                  2.5   \n",
       "...                                                ...   \n",
       "4061                                              20.4   \n",
       "4062                                              19.6   \n",
       "4063                                              20.9   \n",
       "4064                                              21.9   \n",
       "4065                                              18.5   \n",
       "\n",
       "      ziekenhuis_incl_buitenpoli_aantal_binnen_5_km  \\\n",
       "0                                               0.0   \n",
       "1                                               0.2   \n",
       "2                                               1.0   \n",
       "3                                               1.0   \n",
       "4                                               2.8   \n",
       "...                                             ...   \n",
       "4061                                            0.0   \n",
       "4062                                            0.0   \n",
       "4063                                            0.0   \n",
       "4064                                            0.0   \n",
       "4065                                            0.0   \n",
       "\n",
       "      ziekenhuis_incl_buitenpoli_aantal_binnen_10_km  \\\n",
       "0                                                2.0   \n",
       "1                                                2.4   \n",
       "2                                                2.9   \n",
       "3                                                1.0   \n",
       "4                                                4.3   \n",
       "...                                              ...   \n",
       "4061                                             0.0   \n",
       "4062                                             0.0   \n",
       "4063                                             0.0   \n",
       "4064                                             0.0   \n",
       "4065                                             0.0   \n",
       "\n",
       "      ziekenhuis_incl_buitenpoli_aantal_binnen_20_km  \\\n",
       "0                                               16.9   \n",
       "1                                               14.1   \n",
       "2                                               16.0   \n",
       "3                                                3.5   \n",
       "4                                               10.0   \n",
       "...                                              ...   \n",
       "4061                                             0.1   \n",
       "4062                                             0.9   \n",
       "4063                                             0.0   \n",
       "4064                                             0.1   \n",
       "4065                                             0.9   \n",
       "\n",
       "      apotheek_gemiddelde_afstand_in_km  \\\n",
       "0                                   2.6   \n",
       "1                                   4.1   \n",
       "2                                   1.1   \n",
       "3                                   0.8   \n",
       "4                                   1.1   \n",
       "...                                 ...   \n",
       "4061                                2.7   \n",
       "4062                                3.7   \n",
       "4063                                2.3   \n",
       "4064                                3.7   \n",
       "4065                                5.7   \n",
       "\n",
       "      huisartsenpost_gemiddelde_afstand_in_km  omgevingsadressendichtheid  \\\n",
       "0                                         9.6                         373   \n",
       "1                                         5.3                          58   \n",
       "2                                         2.7                        2090   \n",
       "3                                         1.9                        1787   \n",
       "4                                         3.7                        3054   \n",
       "...                                       ...                         ...   \n",
       "4061                                     22.6                          91   \n",
       "4062                                     19.8                          19   \n",
       "4063                                     21.1                          87   \n",
       "4064                                     24.5                          17   \n",
       "4065                                     21.7                          12   \n",
       "\n",
       "      stedelijkheid                                           geometry  \n",
       "0                 5  MULTIPOLYGON (((111425.535 476579.197, 111425....  \n",
       "1                 5  MULTIPOLYGON (((125231.079 492632.030, 125241....  \n",
       "2                 2  MULTIPOLYGON (((117982.293 494466.387, 117990....  \n",
       "3                 2  MULTIPOLYGON (((134217.968 517351.197, 134217....  \n",
       "4                 1  MULTIPOLYGON (((107022.752 501219.659, 107022....  \n",
       "...             ...                                                ...  \n",
       "4061              5  MULTIPOLYGON (((239883.279 600110.514, 240113....  \n",
       "4062              5  MULTIPOLYGON (((242493.596 601149.976, 242505....  \n",
       "4063              5  MULTIPOLYGON (((240755.585 602191.415, 240752....  \n",
       "4064              5  MULTIPOLYGON (((237960.007 602041.398, 237962....  \n",
       "4065              5  MULTIPOLYGON (((235725.834 598999.629, 235737....  \n",
       "\n",
       "[4066 rows x 135 columns]>"
      ]
     },
     "execution_count": 3,
     "metadata": {},
     "output_type": "execute_result"
    }
   ],
   "source": [
    "import tempfile\n",
    "import requests\n",
    "import os\n",
    "import time\n",
    "\n",
    "source_url = (\"https://service.pdok.nl/cbs/pc4/atom/v1_0/downloads/cbs_pc4_2018.gpkg.zip\")\n",
    "dst_fn = \"cbs_pc4_2018.gpkg.zip\"\n",
    "\n",
    "\n",
    "def download_file(url: str, dest_filename: str) -> str: \n",
    "    req = requests.get(url)\n",
    "    file = open(dest_filename, 'wb')\n",
    "    for chunk in req.iter_content(100000):\n",
    "        file.write(chunk)\n",
    "    file.close()\n",
    "\n",
    "    return dest_filename\n",
    "\n",
    "zip_fp = download_file(source_url, os.path.join(tempfile.mkdtemp(), dst_fn))\n",
    "\n",
    "pc4 = gpd.read_file(\"zip://\" + zip_fp + \"!cbs_pc4_2018.gpkg\")\n",
    "pc4.head"
   ]
  },
  {
   "cell_type": "code",
   "execution_count": 4,
   "id": "e5f64e7f",
   "metadata": {},
   "outputs": [
    {
     "data": {
      "text/plain": [
       "[{'collections': 666, 'collected': 10450, 'uncollectable': 0},\n",
       " {'collections': 62, 'collected': 1359, 'uncollectable': 0},\n",
       " {'collections': 5, 'collected': 361, 'uncollectable': 0}]"
      ]
     },
     "execution_count": 4,
     "metadata": {},
     "output_type": "execute_result"
    }
   ],
   "source": [
    "gc.get_stats()"
   ]
  },
  {
   "cell_type": "code",
   "execution_count": 5,
   "id": "735fc41a",
   "metadata": {},
   "outputs": [
    {
     "data": {
      "text/plain": [
       "<bound method NDFrame.head of       postcode                                           geometry\n",
       "0         1119  MULTIPOLYGON (((111425.535 476579.197, 111425....\n",
       "1         1454  MULTIPOLYGON (((125231.079 492632.030, 125241....\n",
       "2         1505  MULTIPOLYGON (((117982.293 494466.387, 117990....\n",
       "3         1623  MULTIPOLYGON (((134217.968 517351.197, 134217....\n",
       "4         1965  MULTIPOLYGON (((107022.752 501219.659, 107022....\n",
       "...        ...                                                ...\n",
       "4061      9995  MULTIPOLYGON (((239883.279 600110.514, 240113....\n",
       "4062      9996  MULTIPOLYGON (((242493.596 601149.976, 242505....\n",
       "4063      9997  MULTIPOLYGON (((240755.585 602191.415, 240752....\n",
       "4064      9998  MULTIPOLYGON (((237960.007 602041.398, 237962....\n",
       "4065      9999  MULTIPOLYGON (((235725.834 598999.629, 235737....\n",
       "\n",
       "[4066 rows x 2 columns]>"
      ]
     },
     "execution_count": 5,
     "metadata": {},
     "output_type": "execute_result"
    }
   ],
   "source": [
    "pc4 = pc4[[\"postcode\", \"geometry\"]]\n",
    "pc4.head"
   ]
  },
  {
   "cell_type": "code",
   "execution_count": 6,
   "id": "4a43dc8d",
   "metadata": {},
   "outputs": [
    {
     "data": {
      "text/plain": [
       "[{'collections': 667, 'collected': 10631, 'uncollectable': 0},\n",
       " {'collections': 62, 'collected': 1359, 'uncollectable': 0},\n",
       " {'collections': 5, 'collected': 361, 'uncollectable': 0}]"
      ]
     },
     "execution_count": 6,
     "metadata": {},
     "output_type": "execute_result"
    }
   ],
   "source": [
    "gc.get_stats()"
   ]
  },
  {
   "cell_type": "code",
   "execution_count": 12,
   "id": "9629e079",
   "metadata": {},
   "outputs": [
    {
     "data": {
      "text/plain": [
       "<bound method NDFrame.head of       postcode                                           geometry\n",
       "6         2406  MULTIPOLYGON (((105618.399 461540.262, 105613....\n",
       "7         2512  MULTIPOLYGON (((80257.094 454582.660, 80258.20...\n",
       "8         2542  MULTIPOLYGON (((79391.606 451102.503, 79383.97...\n",
       "9         2585  MULTIPOLYGON (((82958.083 455081.114, 82958.07...\n",
       "10        2636  MULTIPOLYGON (((86734.467 443702.531, 86739.50...\n",
       "...        ...                                                ...\n",
       "1401      4213  MULTIPOLYGON (((128678.055 427004.914, 128680....\n",
       "1403      4221  MULTIPOLYGON (((127960.050 434929.345, 127977....\n",
       "1404      4223  MULTIPOLYGON (((124529.959 433215.202, 124550....\n",
       "1405      4225  MULTIPOLYGON (((124747.806 438109.714, 124748....\n",
       "1409      4241  MULTIPOLYGON (((130139.618 432603.353, 130144....\n",
       "\n",
       "[542 rows x 2 columns]>"
      ]
     },
     "execution_count": 12,
     "metadata": {},
     "output_type": "execute_result"
    }
   ],
   "source": [
    "pc4_zh = pd.DataFrame({\"postcode\": [1428, 2159, 2161, 2162, 2163, 2171, 2172, 2181, 2182, 2191, 2201, 2202, 2203, 2204, 2211, 2212, 2215, 2216, 2221, 2222, 2223, 2224, 2225, 2231, 2232, 2235, 2241, 2242, 2243, 2244, 2245, 2251, 2252, 2253, 2254, 2261, 2262, 2263, 2264, 2265, 2266, 2267, 2271, 2272, 2273, 2274, 2275, 2281, 2282, 2283, 2284, 2285, 2286, 2287, 2288, 2289, 2291, 2292, 2295, 2311, 2312, 2313, 2314, 2315, 2316, 2317, 2318, 2321, 2322, 2323, 2324, 2331, 2332, 2333, 2334, 2341, 2342, 2343, 2351, 2352, 2353, 2355, 2361, 2362, 2371, 2374, 2375, 2376, 2377, 2381, 2382, 2391, 2394, 2396, 2401, 2402, 2403, 2404, 2405, 2406, 2407, 2408, 2409, 2411, 2412, 2415, 2421, 2431, 2432, 2435, 2441, 2445, 2451, 2461, 2465, 2471, 2481, 2491, 2492, 2493, 2495, 2496, 2497, 2498, 2511, 2512, 2513, 2514, 2515, 2516, 2517, 2518, 2521, 2522, 2523, 2524, 2525, 2526, 2531, 2532, 2533, 2541, 2542, 2543, 2544, 2545, 2546, 2547, 2548, 2551, 2552, 2553, 2554, 2555, 2561, 2562, 2563, 2564, 2565, 2566, 2571, 2572, 2573, 2574, 2581, 2582, 2583, 2584, 2585, 2586, 2587, 2591, 2592, 2593, 2594, 2595, 2596, 2597, 2611, 2612, 2613, 2614, 2616, 2622, 2623, 2624, 2625, 2626, 2627, 2628, 2629, 2631, 2632, 2635, 2636, 2641, 2642, 2643, 2645, 2651, 2652, 2661, 2662, 2665, 2671, 2672, 2673, 2675, 2676, 2678, 2681, 2684, 2685, 2691, 2692, 2693, 2694, 2711, 2712, 2713, 2715, 2716, 2717, 2718, 2719, 2721, 2722, 2723, 2724, 2725, 2726, 2727, 2728, 2729, 2731, 2735, 2741, 2742, 2743, 2751, 2752, 2761, 2771, 2801, 2802, 2803, 2804, 2805, 2806, 2807, 2808, 2809, 2811, 2821, 2825, 2831, 2841, 2851, 2855, 2861, 2865, 2871, 2872, 2901, 2902, 2903, 2904, 2905, 2906, 2907, 2908, 2909, 2911, 2912, 2913, 2914, 2921, 2922, 2923, 2924, 2925, 2926, 2931, 2935, 2941, 2951, 2952, 2953, 2954, 2957, 2959, 2961, 2964, 2965, 2967, 2968, 2969, 2971, 2973, 2974, 2975, 2977, 2981, 2982, 2983, 2984, 2985, 2986, 2987, 2988, 2989, 2991, 2992, 2993, 2994, 2995, 3011, 3012, 3013, 3014, 3015, 3016, 3021, 3022, 3023, 3024, 3025, 3026, 3027, 3028, 3029, 3031, 3032, 3033, 3034, 3035, 3036, 3037, 3038, 3039, 3041, 3042, 3043, 3044, 3045, 3046, 3047, 3051, 3052, 3053, 3054, 3055, 3056, 3059, 3061, 3062, 3063, 3064, 3065, 3066, 3067, 3068, 3069, 3071, 3072, 3073, 3074, 3075, 3076, 3077, 3078, 3079, 3081, 3082, 3083, 3084, 3085, 3086, 3087, 3088, 3089, 3111, 3112, 3113, 3114, 3115, 3116, 3117, 3118, 3119, 3121, 3122, 3123, 3124, 3125, 3131, 3132, 3133, 3134, 3135, 3136, 3137, 3138, 3141, 3142, 3143, 3144, 3145, 3146, 3147, 3151, 3155, 3161, 3162, 3165, 3171, 3172, 3176, 3181, 3191, 3192, 3193, 3194, 3195, 3196, 3197, 3198, 3199, 3201, 3202, 3203, 3204, 3205, 3206, 3207, 3208, 3209, 3211, 3212, 3214, 3216, 3218, 3221, 3222, 3223, 3224, 3225, 3227, 3231, 3232, 3233, 3234, 3235, 3237, 3238, 3241, 3243, 3244, 3245, 3247, 3248, 3249, 3251, 3252, 3253, 3255, 3256, 3257, 3258, 3261, 3262, 3263, 3264, 3265, 3267, 3271, 3273, 3274, 3281, 3284, 3286, 3291, 3292, 3293, 3295, 3297, 3299, 3311, 3312, 3313, 3314, 3315, 3316, 3317, 3318, 3319, 3328, 3329, 3331, 3332, 3333, 3334, 3335, 3336, 3341, 3342, 3343, 3344, 3351, 3352, 3353, 3354, 3355, 3356, 3361, 3362, 3363, 3364, 3366, 3371, 3372, 3373, 3381, 3465, 3466, 3651, 3652, 3653, 4201, 4202, 4203, 4204, 4205, 4206, 4207, 4208, 4209, 4213, 4221, 4223, 4225, 4241]})\n",
    "pc4_zh = pc4.join(pc4_zh.set_index(\"postcode\"), on=\"postcode\",  how=\"inner\", lsuffix='pc4')[[\"postcode\", \"geometry\"]]\n",
    "pc4_zh.head"
   ]
  },
  {
   "cell_type": "code",
   "execution_count": 13,
   "id": "0a9d5e8f",
   "metadata": {},
   "outputs": [
    {
     "data": {
      "text/plain": [
       "[{'collections': 683, 'collected': 12086, 'uncollectable': 0},\n",
       " {'collections': 63, 'collected': 1741, 'uncollectable': 0},\n",
       " {'collections': 7, 'collected': 873, 'uncollectable': 0}]"
      ]
     },
     "execution_count": 13,
     "metadata": {},
     "output_type": "execute_result"
    }
   ],
   "source": [
    "gc.get_stats()"
   ]
  },
  {
   "cell_type": "code",
   "execution_count": null,
   "id": "0e38d72a",
   "metadata": {},
   "outputs": [],
   "source": []
  },
  {
   "cell_type": "code",
   "execution_count": 15,
   "id": "19f1507a",
   "metadata": {},
   "outputs": [],
   "source": [
    "#viirs = vdl.open_viirs_monthly_file(vdl.get_viirs_dnb_monthly_file(\"75N060W\", 2021, 12, ViirsDnbMonthlyType.STRAY_LIGHT_CORRECTED))"
   ]
  },
  {
   "cell_type": "code",
   "execution_count": 16,
   "id": "b3801607",
   "metadata": {},
   "outputs": [],
   "source": [
    "NETHERLAND_POLYGON = [\n",
    "    {\n",
    "        'type': 'Polygon',\n",
    "        'coordinates': [[\n",
    "            [3.2006621064250274, 53.58584446228139],\n",
    "            [3.2006621064250274, 50.69456930499138],\n",
    "            [7.276589840800027, 50.69456930499138],\n",
    "            [7.276589840800027, 53.58584446228139]\n",
    "        ]]\n",
    "    }\n",
    "]"
   ]
  },
  {
   "cell_type": "code",
   "execution_count": 17,
   "id": "bf8e0df8",
   "metadata": {},
   "outputs": [],
   "source": [
    "#alan_nl = viirs[dict(band=0)].rio.clip(netherlands, crs=4326)\n",
    "#alan_nl"
   ]
  },
  {
   "cell_type": "code",
   "execution_count": 18,
   "id": "04350fc4",
   "metadata": {},
   "outputs": [
    {
     "data": {
      "text/plain": [
       "<bound method NDFrame.head of                                                    geometry\n",
       "postcode                                                   \n",
       "2406      MULTIPOLYGON (((4.66585 52.13985, 4.66579 52.1...\n",
       "2512      MULTIPOLYGON (((4.29696 52.07447, 4.29698 52.0...\n",
       "2542      MULTIPOLYGON (((4.28511 52.04308, 4.28500 52.0...\n",
       "2585      MULTIPOLYGON (((4.33625 52.07931, 4.33625 52.0...\n",
       "2636      MULTIPOLYGON (((4.39360 51.97753, 4.39367 51.9...\n",
       "...                                                     ...\n",
       "4213      MULTIPOLYGON (((5.00534 51.83102, 5.00538 51.8...\n",
       "4221      MULTIPOLYGON (((4.99430 51.90221, 4.99456 51.9...\n",
       "4223      MULTIPOLYGON (((4.94462 51.88663, 4.94492 51.8...\n",
       "4225      MULTIPOLYGON (((4.94735 51.93063, 4.94736 51.9...\n",
       "4241      MULTIPOLYGON (((5.02614 51.88141, 5.02621 51.8...\n",
       "\n",
       "[542 rows x 1 columns]>"
      ]
     },
     "execution_count": 18,
     "metadata": {},
     "output_type": "execute_result"
    }
   ],
   "source": [
    "pc4_zh = pc4_zh.to_crs(\"EPSG:4326\")\n",
    "pc4_zh = pc4_zh.set_index(\"postcode\")\n",
    "pc4_zh.head "
   ]
  },
  {
   "cell_type": "code",
   "execution_count": 19,
   "id": "d7fa3e82",
   "metadata": {},
   "outputs": [],
   "source": [
    "#alan_nl_df = alan_nl.drop_vars([\"spatial_ref\",\"band\", \"time\"]).to_dataframe().reset_index()\n",
    "#alan_nl_gdf = gpd.GeoDataFrame(alan_nl_df, geometry=gpd.points_from_xy(alan_nl_df.x, alan_nl_df.y), \n",
    "                               #crs=alan_nl.rio.crs.to_string())\n",
    "#alan_nl_gdf = alan_nl_gdf.drop([\"y\", \"x\"], axis=1) "
   ]
  },
  {
   "cell_type": "code",
   "execution_count": 20,
   "id": "77cd15c1",
   "metadata": {},
   "outputs": [],
   "source": [
    "#alan_southholland = alan_nl_gdf.sjoin(pc4_southholland, how=\"inner\", predicate='intersects')\n",
    "#alan_southholland.head() "
   ]
  },
  {
   "cell_type": "code",
   "execution_count": 21,
   "id": "0a25d592",
   "metadata": {},
   "outputs": [],
   "source": [
    "#alan_sh_pc4 = alan_southholland[['avg_rad9h', 'postcode']].groupby('postcode').agg({'avg_rad9h': np.mean})\n",
    "#alan_sh_pc4.join(pc4_southholland.set_index(\"postcode\"), on=\"postcode\", how=\"inner\").reset_index()\n",
    "\n"
   ]
  },
  {
   "cell_type": "code",
   "execution_count": null,
   "id": "6e3f34ec",
   "metadata": {},
   "outputs": [],
   "source": [
    "\n",
    "x = alan_nl.time.item()\n",
    "np.datetime64(x, \"ns\")"
   ]
  },
  {
   "cell_type": "code",
   "execution_count": 22,
   "id": "a47e0923",
   "metadata": {},
   "outputs": [],
   "source": [
    "import tqdm\n",
    "import time\n",
    "import gc\n",
    "\n",
    "NL_REGION = \"75N060W\"\n",
    "\n",
    "def get_viirs_and_clip(area, year, month, clip_roi):\n",
    "    retry = 0\n",
    "    viirs = None\n",
    "    while retry < 4 and not viirs:\n",
    "        try:\n",
    "            viirs = vdl.open_viirs_monthly_file(vdl.get_viirs_dnb_monthly_file(area, year, month, ViirsDnbMonthlyType.STRAY_LIGHT_CORRECTED))\n",
    "        except:\n",
    "            time.sleep(5)\n",
    "            retry += 1\n",
    "        else:\n",
    "            break\n",
    "    \n",
    "    return viirs\n",
    "            \n",
    "            \n",
    "    viirs_roi = viirs[dict(band=0)].rio.clip(clip_roi, crs=4326)\n",
    "    return viirs_roi\n",
    "    \n",
    "\n",
    "def get_alan_for_dutch_zipcodes(year, month, postcode, pbar):\n",
    "    nl_alan = get_viirs_and_clip(NL_REGION, year, month, NETHERLAND_POLYGON)\n",
    "    pbar.update(1)\n",
    "    \n",
    "    timestamp = np.datetime64(nl_alan.time.item(), \"ns\")\n",
    "    \n",
    "    # Convert to geodataframe\n",
    "    nl_alan = nl_alan.drop_vars([\"spatial_ref\",\"band\", \"time\"]).to_dataframe().reset_index()\n",
    "    nl_alan_gdf = gpd.GeoDataFrame(nl_alan, geometry=gpd.points_from_xy(nl_alan.x, nl_alan.y), \n",
    "                               crs=nl_alan.rio.crs.to_string())\n",
    "    nl_alan_gdf = nl_alan_gdf.drop([\"y\", \"x\"], axis=1) \n",
    "    pbar.update(1)\n",
    "    del(nl_alan)\n",
    "    \n",
    "    # Compute what points belong to what postcode in our region of interest\n",
    "    roi_alan = nl_alan_gdf.sjoin(postcode, how=\"inner\", predicate='intersects')\n",
    "    del(nl_alan_gdf)\n",
    "    pbar.update(1)\n",
    "    \n",
    "    roi_alan_pc4 = roi_alan[['avg_rad9h', 'postcode']].groupby('postcode').agg({'avg_rad9h': np.mean})\n",
    "    roi_alan_pc4 = roi_alan_pc4.join(postcode.set_index(\"postcode\"), on=\"postcode\", how=\"inner\").reset_index()\n",
    "    roi_alan_pc4['time'] = timestamp\n",
    "    pbar.update(1)\n",
    "    \n",
    "    return roi_alan_pc4\n",
    "\n",
    "def get_annual_alan_for_dutch_zipcode(year, postcode):\n",
    "    with tqdm.tqdm(total=12 * 4) as pbar:\n",
    "        annual = get_alan_for_dutch_zipcodes(year, 1, postcode, pbar)\n",
    "\n",
    "        for month in range(2, 13):\n",
    "            df = get_alan_for_dutch_zipcodes(year, month, postcode, pbar)\n",
    "            annual = pd.concat([annual, df])\n",
    "            gc.collect()\n",
    "\n",
    "    return annual\n",
    "\n",
    "    "
   ]
  },
  {
   "cell_type": "code",
   "execution_count": null,
   "id": "86965e75",
   "metadata": {},
   "outputs": [
    {
     "name": "stderr",
     "output_type": "stream",
     "text": [
      "  2%|███▉                                                                                                                                                                                      | 1/48 [00:08<06:59,  8.92s/it]"
     ]
    }
   ],
   "source": [
    "south_holland_data = get_annual_alan_for_dutch_zipcode(2021, pc4_zh)\n",
    "south_holland_data.shape"
   ]
  },
  {
   "cell_type": "code",
   "execution_count": null,
   "id": "4a271932",
   "metadata": {},
   "outputs": [],
   "source": [
    "import os\n",
    "os.environ[\"PYALANYSIS_MINES_USERNAME\"] = \"anton.bossenbroek@me.com\"\n",
    "os.environ[\"PYALANYSIS_MINES_PASSWORD\"] = \"cact-kah7phik2NOG\"\n"
   ]
  },
  {
   "cell_type": "code",
   "execution_count": null,
   "id": "ff8e515a",
   "metadata": {},
   "outputs": [],
   "source": []
  }
 ],
 "metadata": {
  "kernelspec": {
   "display_name": "Pyalanysis_demo_env",
   "language": "python",
   "name": "pyalanysis_demo_env"
  },
  "language_info": {
   "codemirror_mode": {
    "name": "ipython",
    "version": 3
   },
   "file_extension": ".py",
   "mimetype": "text/x-python",
   "name": "python",
   "nbconvert_exporter": "python",
   "pygments_lexer": "ipython3",
   "version": "3.8.13"
  }
 },
 "nbformat": 4,
 "nbformat_minor": 5
}
