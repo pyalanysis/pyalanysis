{
 "cells": [
  {
   "cell_type": "code",
   "execution_count": null,
   "id": "90bc94d7",
   "metadata": {},
   "outputs": [],
   "source": [
    "import rioxarray\n",
    "import xarray as xr\n",
    "import pandas as pd\n",
    "import numpy as np\n",
    "import matplotlib.pyplot as plt\n",
    "import geopandas as gpd\n",
    "import pydeck as pdk\n",
    "import rasterio\n",
    "import numpy as np\n",
    "import pyproj\n",
    "import shapely\n",
    "import gc\n",
    "\n",
    "print(pyproj.datadir.get_data_dir())\n",
    "\n",
    "%matplotlib inline"
   ]
  },
  {
   "cell_type": "markdown",
   "id": "a492905a",
   "metadata": {},
   "source": [
    "To determine what part to get, we use the figure from [mines](https://eogdata.mines.edu/products/vnl/#monthly),\n",
    "\n",
    "![coverage](https://eogdata.mines.edu/products/assets/img/tile_map.png)\n",
    "\n",
    "As can be seen in the file [download directory](https://eogdata.mines.edu/nighttime_light/monthly/v10/2021/202109/vcmcfg/) the latitude and longtitude is switched around in some cases."
   ]
  },
  {
   "cell_type": "code",
   "execution_count": null,
   "id": "e4744e62",
   "metadata": {},
   "outputs": [],
   "source": [
    "from pyalanysis.data import ViirsDnbMonthlyDataLoader, ViirsDnbMonthlyType\n",
    "import os\n",
    "\n",
    "\n"
   ]
  },
  {
   "cell_type": "code",
   "execution_count": null,
   "id": "6095161c",
   "metadata": {},
   "outputs": [],
   "source": [
    "import tempfile\n",
    "import requests\n",
    "import os\n",
    "import time\n",
    "\n",
    "source_url = (\"https://service.pdok.nl/cbs/pc4/atom/v1_0/downloads/cbs_pc4_2018.gpkg.zip\")\n",
    "dst_fn = \"cbs_pc4_2018.gpkg.zip\"\n",
    "\n",
    "\n",
    "def download_file(url: str, dest_filename: str) -> str: \n",
    "    req = requests.get(url)\n",
    "    file = open(dest_filename, 'wb')\n",
    "    for chunk in req.iter_content(100000):\n",
    "        file.write(chunk)\n",
    "    file.close()\n",
    "\n",
    "    return dest_filename\n",
    "\n",
    "zip_fp = download_file(source_url, os.path.join(tempfile.mkdtemp(), dst_fn))\n",
    "\n",
    "pc4 = gpd.read_file(\"zip://\" + zip_fp + \"!cbs_pc4_2018.gpkg\")\n",
    "pc4.head"
   ]
  },
  {
   "cell_type": "code",
   "execution_count": null,
   "id": "ef609a75",
   "metadata": {},
   "outputs": [],
   "source": [
    "gc.get_stats()"
   ]
  },
  {
   "cell_type": "code",
   "execution_count": null,
   "id": "735fc41a",
   "metadata": {},
   "outputs": [],
   "source": [
    "pc4 = pc4[[\"postcode\", \"geometry\"]]\n",
    "pc4.head"
   ]
  },
  {
   "cell_type": "code",
   "execution_count": null,
   "id": "cae78c06",
   "metadata": {},
   "outputs": [],
   "source": []
  },
  {
   "cell_type": "code",
   "execution_count": null,
   "id": "9629e079",
   "metadata": {},
   "outputs": [],
   "source": [
    "pc4_zh = pd.DataFrame({\"postcode\": [1428, 2159, 2161, 2162, 2163, 2171, 2172, 2181, 2182, 2191, 2201, 2202, 2203, 2204, 2211, 2212, 2215, 2216, 2221, 2222, 2223, 2224, 2225, 2231, 2232, 2235, 2241, 2242, 2243, 2244, 2245, 2251, 2252, 2253, 2254, 2261, 2262, 2263, 2264, 2265, 2266, 2267, 2271, 2272, 2273, 2274, 2275, 2281, 2282, 2283, 2284, 2285, 2286, 2287, 2288, 2289, 2291, 2292, 2295, 2311, 2312, 2313, 2314, 2315, 2316, 2317, 2318, 2321, 2322, 2323, 2324, 2331, 2332, 2333, 2334, 2341, 2342, 2343, 2351, 2352, 2353, 2355, 2361, 2362, 2371, 2374, 2375, 2376, 2377, 2381, 2382, 2391, 2394, 2396, 2401, 2402, 2403, 2404, 2405, 2406, 2407, 2408, 2409, 2411, 2412, 2415, 2421, 2431, 2432, 2435, 2441, 2445, 2451, 2461, 2465, 2471, 2481, 2491, 2492, 2493, 2495, 2496, 2497, 2498, 2511, 2512, 2513, 2514, 2515, 2516, 2517, 2518, 2521, 2522, 2523, 2524, 2525, 2526, 2531, 2532, 2533, 2541, 2542, 2543, 2544, 2545, 2546, 2547, 2548, 2551, 2552, 2553, 2554, 2555, 2561, 2562, 2563, 2564, 2565, 2566, 2571, 2572, 2573, 2574, 2581, 2582, 2583, 2584, 2585, 2586, 2587, 2591, 2592, 2593, 2594, 2595, 2596, 2597, 2611, 2612, 2613, 2614, 2616, 2622, 2623, 2624, 2625, 2626, 2627, 2628, 2629, 2631, 2632, 2635, 2636, 2641, 2642, 2643, 2645, 2651, 2652, 2661, 2662, 2665, 2671, 2672, 2673, 2675, 2676, 2678, 2681, 2684, 2685, 2691, 2692, 2693, 2694, 2711, 2712, 2713, 2715, 2716, 2717, 2718, 2719, 2721, 2722, 2723, 2724, 2725, 2726, 2727, 2728, 2729, 2731, 2735, 2741, 2742, 2743, 2751, 2752, 2761, 2771, 2801, 2802, 2803, 2804, 2805, 2806, 2807, 2808, 2809, 2811, 2821, 2825, 2831, 2841, 2851, 2855, 2861, 2865, 2871, 2872, 2901, 2902, 2903, 2904, 2905, 2906, 2907, 2908, 2909, 2911, 2912, 2913, 2914, 2921, 2922, 2923, 2924, 2925, 2926, 2931, 2935, 2941, 2951, 2952, 2953, 2954, 2957, 2959, 2961, 2964, 2965, 2967, 2968, 2969, 2971, 2973, 2974, 2975, 2977, 2981, 2982, 2983, 2984, 2985, 2986, 2987, 2988, 2989, 2991, 2992, 2993, 2994, 2995, 3011, 3012, 3013, 3014, 3015, 3016, 3021, 3022, 3023, 3024, 3025, 3026, 3027, 3028, 3029, 3031, 3032, 3033, 3034, 3035, 3036, 3037, 3038, 3039, 3041, 3042, 3043, 3044, 3045, 3046, 3047, 3051, 3052, 3053, 3054, 3055, 3056, 3059, 3061, 3062, 3063, 3064, 3065, 3066, 3067, 3068, 3069, 3071, 3072, 3073, 3074, 3075, 3076, 3077, 3078, 3079, 3081, 3082, 3083, 3084, 3085, 3086, 3087, 3088, 3089, 3111, 3112, 3113, 3114, 3115, 3116, 3117, 3118, 3119, 3121, 3122, 3123, 3124, 3125, 3131, 3132, 3133, 3134, 3135, 3136, 3137, 3138, 3141, 3142, 3143, 3144, 3145, 3146, 3147, 3151, 3155, 3161, 3162, 3165, 3171, 3172, 3176, 3181, 3191, 3192, 3193, 3194, 3195, 3196, 3197, 3198, 3199, 3201, 3202, 3203, 3204, 3205, 3206, 3207, 3208, 3209, 3211, 3212, 3214, 3216, 3218, 3221, 3222, 3223, 3224, 3225, 3227, 3231, 3232, 3233, 3234, 3235, 3237, 3238, 3241, 3243, 3244, 3245, 3247, 3248, 3249, 3251, 3252, 3253, 3255, 3256, 3257, 3258, 3261, 3262, 3263, 3264, 3265, 3267, 3271, 3273, 3274, 3281, 3284, 3286, 3291, 3292, 3293, 3295, 3297, 3299, 3311, 3312, 3313, 3314, 3315, 3316, 3317, 3318, 3319, 3328, 3329, 3331, 3332, 3333, 3334, 3335, 3336, 3341, 3342, 3343, 3344, 3351, 3352, 3353, 3354, 3355, 3356, 3361, 3362, 3363, 3364, 3366, 3371, 3372, 3373, 3381, 3465, 3466, 3651, 3652, 3653, 4201, 4202, 4203, 4204, 4205, 4206, 4207, 4208, 4209, 4213, 4221, 4223, 4225, 4241]})\n",
    "pc4_zh = pc4.join(pc4_zh.set_index(\"postcode\"), on=\"postcode\",  how=\"inner\", lsuffix='pc4')[[\"postcode\", \"geometry\"]]\n",
    "pc4_zh.head"
   ]
  },
  {
   "cell_type": "code",
   "execution_count": null,
   "id": "46e5a95f",
   "metadata": {},
   "outputs": [],
   "source": [
    "del(pc4)\n",
    "pc4 = gpd.GeoDataFrame()\n",
    "gc.collect()"
   ]
  },
  {
   "cell_type": "code",
   "execution_count": null,
   "id": "7e9010e6",
   "metadata": {},
   "outputs": [],
   "source": []
  },
  {
   "cell_type": "code",
   "execution_count": null,
   "id": "19f1507a",
   "metadata": {},
   "outputs": [],
   "source": [
    "#viirs = vdl.open_viirs_monthly_file(vdl.get_viirs_dnb_monthly_file(\"75N060W\", 2021, 12, ViirsDnbMonthlyType.STRAY_LIGHT_CORRECTED))"
   ]
  },
  {
   "cell_type": "code",
   "execution_count": null,
   "id": "b3801607",
   "metadata": {},
   "outputs": [],
   "source": [
    "NETHERLAND_POLYGON = [\n",
    "    {\n",
    "        'type': 'Polygon',\n",
    "        'coordinates': [[\n",
    "            [3.2006621064250274, 53.58584446228139],\n",
    "            [3.2006621064250274, 50.69456930499138],\n",
    "            [7.276589840800027, 50.69456930499138],\n",
    "            [7.276589840800027, 53.58584446228139]\n",
    "        ]]\n",
    "    }\n",
    "]"
   ]
  },
  {
   "cell_type": "code",
   "execution_count": null,
   "id": "bf8e0df8",
   "metadata": {},
   "outputs": [],
   "source": [
    "#alan_nl = viirs[dict(band=0)].rio.clip(netherlands, crs=4326)\n",
    "#alan_nl"
   ]
  },
  {
   "cell_type": "code",
   "execution_count": null,
   "id": "04350fc4",
   "metadata": {},
   "outputs": [],
   "source": [
    "pc4_zh = pc4_zh.to_crs(\"EPSG:4326\")\n",
    "pc4_zh.head "
   ]
  },
  {
   "cell_type": "code",
   "execution_count": null,
   "id": "d7fa3e82",
   "metadata": {},
   "outputs": [],
   "source": [
    "#alan_nl_df = alan_nl.drop_vars([\"spatial_ref\",\"band\", \"time\"]).to_dataframe().reset_index()\n",
    "#alan_nl_gdf = gpd.GeoDataFrame(alan_nl_df, geometry=gpd.points_from_xy(alan_nl_df.x, alan_nl_df.y), \n",
    "                               #crs=alan_nl.rio.crs.to_string())\n",
    "#alan_nl_gdf = alan_nl_gdf.drop([\"y\", \"x\"], axis=1) "
   ]
  },
  {
   "cell_type": "code",
   "execution_count": null,
   "id": "77cd15c1",
   "metadata": {},
   "outputs": [],
   "source": [
    "#alan_southholland = alan_nl_gdf.sjoin(pc4_southholland, how=\"inner\", predicate='intersects')\n",
    "#alan_southholland.head() "
   ]
  },
  {
   "cell_type": "code",
   "execution_count": null,
   "id": "0a25d592",
   "metadata": {},
   "outputs": [],
   "source": [
    "#alan_sh_pc4 = alan_southholland[['avg_rad9h', 'postcode']].groupby('postcode').agg({'avg_rad9h': np.mean})\n",
    "#alan_sh_pc4.join(pc4_southholland.set_index(\"postcode\"), on=\"postcode\", how=\"inner\").reset_index()\n",
    "\n"
   ]
  },
  {
   "cell_type": "code",
   "execution_count": null,
   "id": "6e3f34ec",
   "metadata": {},
   "outputs": [],
   "source": [
    "\n",
    "x = alan_nl.time.item()\n",
    "np.datetime64(x, \"ns\")"
   ]
  },
  {
   "cell_type": "code",
   "execution_count": null,
   "id": "a47e0923",
   "metadata": {},
   "outputs": [],
   "source": [
    "import tqdm\n",
    "import time\n",
    "import gc\n",
    "\n",
    "NL_REGION = \"75N060W\"\n",
    "\n",
    "def get_viirs_and_clip(area, year, month, clip_roi):\n",
    "    retry = 0\n",
    "    viirs = None\n",
    "    while retry < 4 and not viirs:\n",
    "        try:\n",
    "            vdl = ViirsDnbMonthlyDataLoader()\n",
    "            viirs = vdl.open_viirs_monthly_file(vdl.get_viirs_dnb_monthly_file(area, year, month, ViirsDnbMonthlyType.STRAY_LIGHT_CORRECTED))\n",
    "        except:\n",
    "            time.sleep(5)\n",
    "            retry += 1\n",
    "        else:\n",
    "            break\n",
    "    if not viirs:\n",
    "        raise Exception(f\"Couldn't load {area} {year} {month}\")\n",
    "    \n",
    "    viirs_roi = viirs[dict(band=0)].rio.clip(clip_roi, crs=4326)\n",
    "    timestamp = np.datetime64(viirs_roi.time.item(), \"ns\")\n",
    "    viirs_roi_crs = viirs_roi.rio.crs.to_string()\n",
    "    viirs_roi_gdf = viirs_roi.drop_vars([\"spatial_ref\",\"band\", \"time\"]).to_dataframe().reset_index()\n",
    "    viirs_roi_gdf = gpd.GeoDataFrame(viirs_roi_gdf, geometry=gpd.points_from_xy(viirs_roi_gdf.x, viirs_roi_gdf.y), \n",
    "                               crs=viirs_roi_crs)\n",
    "    viirs_roi_gdf = viirs_roi_gdf.drop([\"y\", \"x\"], axis=1)  \n",
    "    return viirs_roi_gdf, timestamp\n",
    "    \n",
    "\n",
    "def get_alan_for_dutch_zipcodes(year, month, postcode, pbar):\n",
    "    nl_alan, timestamp = get_viirs_and_clip(NL_REGION, year, month, NETHERLAND_POLYGON)\n",
    "    pbar.update(1)\n",
    "    \n",
    "    # Compute what points belong to what postcode in our region of interest\n",
    "    roi_alan = nl_alan.sjoin(postcode, how=\"inner\", predicate='intersects')\n",
    "    nl_alan = gpd.GeoDataFrame() # Dereference for pandas\n",
    "    del(nl_alan)\n",
    "    pbar.update(1)\n",
    "    gc.collect()\n",
    "    \n",
    "    roi_alan = roi_alan[['avg_rad9h', 'postcode']].groupby('postcode').agg({'avg_rad9h': np.mean})\n",
    "    roi_alan = roi_alan.join(postcode.set_index(\"postcode\"), on=\"postcode\", how=\"inner\").reset_index()\n",
    "    roi_alan['time'] = timestamp\n",
    "    pbar.update(1)\n",
    "    \n",
    "    return roi_alan\n",
    "\n",
    "def get_annual_alan_for_dutch_zipcode(year, postcode):\n",
    "    with tqdm.tqdm(total=12 * 3) as pbar:\n",
    "        annual = get_alan_for_dutch_zipcodes(year, 1, postcode, pbar)\n",
    "\n",
    "        for month in range(2, 13):\n",
    "            df = get_alan_for_dutch_zipcodes(year, month, postcode, pbar)\n",
    "            annual = pd.concat([annual, df])\n",
    "            gc.collect()\n",
    "\n",
    "    return annual\n",
    "\n",
    "    "
   ]
  },
  {
   "cell_type": "code",
   "execution_count": null,
   "id": "86965e75",
   "metadata": {},
   "outputs": [],
   "source": [
    "south_holland_data = get_annual_alan_for_dutch_zipcode(2021, pc4_zh)\n",
    "south_holland_data.shape"
   ]
  },
  {
   "cell_type": "code",
   "execution_count": null,
   "id": "4a271932",
   "metadata": {},
   "outputs": [],
   "source": [
    "import os\n",
    "os.environ[\"PYALANYSIS_MINES_USERNAME\"] = \"anton.bossenbroek@me.com\"\n",
    "os.environ[\"PYALANYSIS_MINES_PASSWORD\"] = \"cact-kah7phik2NOG\"\n"
   ]
  },
  {
   "cell_type": "code",
   "execution_count": null,
   "id": "ff8e515a",
   "metadata": {},
   "outputs": [],
   "source": [
    "fn = \"zh_alan_2021.gpkg\""
   ]
  },
  {
   "cell_type": "code",
   "execution_count": null,
   "id": "18b5b0d1",
   "metadata": {},
   "outputs": [],
   "source": [
    "south_holland_data.head()"
   ]
  },
  {
   "cell_type": "code",
   "execution_count": null,
   "id": "29973890",
   "metadata": {},
   "outputs": [],
   "source": [
    "south_holland_data = south_holland_data[['postcode', 'avg_rad9h', 'time', 'geometry']]"
   ]
  },
  {
   "cell_type": "code",
   "execution_count": null,
   "id": "4f52320b",
   "metadata": {},
   "outputs": [],
   "source": [
    "zh_d = gpd.GeoDataFrame(south_holland_data)"
   ]
  },
  {
   "cell_type": "code",
   "execution_count": null,
   "id": "75c767ce",
   "metadata": {},
   "outputs": [],
   "source": [
    "zh_d.to_file(\"zh_alan_d.geojson\")"
   ]
  },
  {
   "cell_type": "code",
   "execution_count": null,
   "id": "8b31d852",
   "metadata": {},
   "outputs": [],
   "source": [
    "zh_d = gpd.read_file(\"zh_alan_d.geojson\")\n",
    "zh_d.head()"
   ]
  },
  {
   "cell_type": "code",
   "execution_count": null,
   "id": "23489c9e",
   "metadata": {},
   "outputs": [],
   "source": [
    "import keplergl"
   ]
  },
  {
   "cell_type": "code",
   "execution_count": null,
   "id": "c435492b",
   "metadata": {},
   "outputs": [],
   "source": [
    "config = {'version': 'v1',\n",
    " 'config': {'visState': {'filters': [{'dataId': ['ALAN'],\n",
    "     'id': 'xmppt4kn',\n",
    "     'name': ['time'],\n",
    "     'type': 'timeRange',\n",
    "     'value': [1609459200000, 1638316800000],\n",
    "     'enlarged': True,\n",
    "     'plotType': 'lineChart',\n",
    "     'animationWindow': 'free',\n",
    "     'yAxis': {'name': 'avg_rad9h', 'type': 'real'},\n",
    "     'speed': 1}],\n",
    "   'layers': [{'id': 'z2vliel',\n",
    "     'type': 'geojson',\n",
    "     'config': {'dataId': 'ALAN',\n",
    "      'label': 'ALAN',\n",
    "      'color': [18, 147, 154],\n",
    "      'highlightColor': [252, 242, 26, 255],\n",
    "      'columns': {'geojson': 'geometry'},\n",
    "      'isVisible': True,\n",
    "      'visConfig': {'opacity': 0.8,\n",
    "       'strokeOpacity': 0.8,\n",
    "       'thickness': 0.5,\n",
    "       'strokeColor': [221, 178, 124],\n",
    "       'colorRange': {'name': 'Global Warming',\n",
    "        'type': 'sequential',\n",
    "        'category': 'Uber',\n",
    "        'colors': ['#5A1846',\n",
    "         '#900C3F',\n",
    "         '#C70039',\n",
    "         '#E3611C',\n",
    "         '#F1920E',\n",
    "         '#FFC300']},\n",
    "       'strokeColorRange': {'name': 'Global Warming',\n",
    "        'type': 'sequential',\n",
    "        'category': 'Uber',\n",
    "        'colors': ['#5A1846',\n",
    "         '#900C3F',\n",
    "         '#C70039',\n",
    "         '#E3611C',\n",
    "         '#F1920E',\n",
    "         '#FFC300']},\n",
    "       'radius': 10,\n",
    "       'sizeRange': [0, 10],\n",
    "       'radiusRange': [0, 50],\n",
    "       'heightRange': [0, 500],\n",
    "       'elevationScale': 5,\n",
    "       'enableElevationZoomFactor': True,\n",
    "       'stroked': True,\n",
    "       'filled': True,\n",
    "       'enable3d': True,\n",
    "       'wireframe': True},\n",
    "      'hidden': False,\n",
    "      'textLabel': [{'field': None,\n",
    "        'color': [255, 255, 255],\n",
    "        'size': 18,\n",
    "        'offset': [0, 0],\n",
    "        'anchor': 'start',\n",
    "        'alignment': 'center'}]},\n",
    "     'visualChannels': {'colorField': {'name': 'avg_rad9h', 'type': 'real'},\n",
    "      'colorScale': 'quantize',\n",
    "      'strokeColorField': None,\n",
    "      'strokeColorScale': 'quantile',\n",
    "      'sizeField': None,\n",
    "      'sizeScale': 'linear',\n",
    "      'heightField': {'name': 'avg_rad9h', 'type': 'real'},\n",
    "      'heightScale': 'linear',\n",
    "      'radiusField': None,\n",
    "      'radiusScale': 'linear'}}],\n",
    "   'interactionConfig': {'tooltip': {'fieldsToShow': {'ALAN': [{'name': 'postcode',\n",
    "        'format': None},\n",
    "       {'name': 'avg_rad9h', 'format': None}]},\n",
    "     'compareMode': False,\n",
    "     'compareType': 'absolute',\n",
    "     'enabled': True},\n",
    "    'brush': {'size': 0.5, 'enabled': False},\n",
    "    'geocoder': {'enabled': False},\n",
    "    'coordinate': {'enabled': False}},\n",
    "   'layerBlending': 'normal',\n",
    "   'splitMaps': [],\n",
    "   'animationConfig': {'currentTime': None, 'speed': 1}},\n",
    "  'mapState': {'bearing': 24,\n",
    "   'dragRotate': True,\n",
    "   'latitude': 51.96309946711154,\n",
    "   'longitude': 4.2734868644934965,\n",
    "   'pitch': 50,\n",
    "   'zoom': 8.707611325840265,\n",
    "   'isSplit': False},\n",
    "  'mapStyle': {'styleType': 'dark',\n",
    "   'topLayerGroups': {},\n",
    "   'visibleLayerGroups': {'label': True,\n",
    "    'road': True,\n",
    "    'border': False,\n",
    "    'building': True,\n",
    "    'water': True,\n",
    "    'land': True,\n",
    "    '3d building': False},\n",
    "   'threeDBuildingColor': [9.665468314072013,\n",
    "    17.18305478057247,\n",
    "    31.1442867897876],\n",
    "   'mapStyles': {}}}}"
   ]
  },
  {
   "cell_type": "code",
   "execution_count": null,
   "id": "d33a5cae",
   "metadata": {},
   "outputs": [],
   "source": [
    "map_1 = keplergl.KeplerGl(height=800, config=config)\n",
    "map_1.add_data(data=zh_d, name=\"ALAN\")\n",
    "map_1"
   ]
  },
  {
   "cell_type": "code",
   "execution_count": null,
   "id": "1f21a44f",
   "metadata": {},
   "outputs": [],
   "source": [
    "map_1.config"
   ]
  },
  {
   "cell_type": "code",
   "execution_count": null,
   "id": "431c686e",
   "metadata": {},
   "outputs": [],
   "source": [
    "map_1.save_to_html(file_name='alan_evolution_zh_2021.html', read_only=True)"
   ]
  },
  {
   "cell_type": "code",
   "execution_count": null,
   "id": "58ed1bd3",
   "metadata": {},
   "outputs": [],
   "source": []
  }
 ],
 "metadata": {
  "kernelspec": {
   "display_name": "Pyalanysis_demo_env",
   "language": "python",
   "name": "pyalanysis_demo_env"
  },
  "language_info": {
   "codemirror_mode": {
    "name": "ipython",
    "version": 3
   },
   "file_extension": ".py",
   "mimetype": "text/x-python",
   "name": "python",
   "nbconvert_exporter": "python",
   "pygments_lexer": "ipython3",
   "version": "3.8.13"
  }
 },
 "nbformat": 4,
 "nbformat_minor": 5
}
